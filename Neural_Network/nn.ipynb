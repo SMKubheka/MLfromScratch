{
 "cells": [
  {
   "cell_type": "markdown",
   "metadata": {},
   "source": [
    "# Neural Network"
   ]
  },
  {
   "cell_type": "markdown",
   "metadata": {},
   "source": [
    "MULTICLASS CLASSIFICATION IMPLEMENTED ON THE MNIST HAND-WRITTEN DATA RECOGNITION SET "
   ]
  },
  {
   "cell_type": "code",
   "execution_count": 1,
   "metadata": {},
   "outputs": [],
   "source": [
    "#tf_env \n",
    "\n",
    "import math\n",
    "import random\n",
    "import numpy as np\n",
    "import pandas as pd\n",
    "import keras\n",
    "import matplotlib.pyplot as plt\n",
    "import seaborn as sns\n",
    "\n",
    "# importing dataset \n",
    "\n",
    "from sklearn.model_selection import train_test_split\n",
    "from keras.datasets import mnist\n"
   ]
  },
  {
   "cell_type": "markdown",
   "metadata": {},
   "source": [
    "### Data Handling"
   ]
  },
  {
   "cell_type": "markdown",
   "metadata": {},
   "source": [
    "**Loading the data**"
   ]
  },
  {
   "cell_type": "code",
   "execution_count": 2,
   "metadata": {},
   "outputs": [],
   "source": [
    "(Xtrain, y_train), (Xtest, y_test) = mnist.load_data()\n",
    "\n",
    "def plot(Xtrain,ytrain):\n",
    "\n",
    "    fig = plt.figure(figsize=(10,7))\n",
    "    for i in range(15):  \n",
    "        ax = fig.add_subplot(3, 5, i+1)\n",
    "        ax.imshow(Xtrain[i], cmap=plt.get_cmap('gray'))\n",
    "        ax.set_title('Label (y): {y}'.format(y=ytrain[i]))\n",
    "        plt.axis('off')"
   ]
  },
  {
   "cell_type": "code",
   "execution_count": 3,
   "metadata": {},
   "outputs": [
    {
     "data": {
      "image/png": "[encoded data removed]",
      "text/plain": [
       "<Figure size 720x504 with 15 Axes>"
      ]
     },
     "metadata": {
      "needs_background": "light"
     },
     "output_type": "display_data"
    }
   ],
   "source": [
    "plot(Xtrain,y_train)"
   ]
  },
  {
   "cell_type": "markdown",
   "metadata": {},
   "source": [
    "**Configuring input**"
   ]
  },
  {
   "cell_type": "markdown",
   "metadata": {},
   "source": [
    "Every image is just 28x28 pixels. To input an image into the model we will flatten this 28x28 into a vector of length 784(28*28) and these 784 numbers which just pixels represent the n features for every example(image) in the dataset."
   ]
  },
  {
   "cell_type": "code",
   "execution_count": 4,
   "metadata": {},
   "outputs": [],
   "source": [
    "X_train = Xtrain.reshape(60000,28*28)\n",
    "X_test = Xtest.reshape(10000,28*28)"
   ]
  },
  {
   "cell_type": "markdown",
   "metadata": {},
   "source": [
    "**One hot encoding the target variable**"
   ]
  },
  {
   "cell_type": "markdown",
   "metadata": {},
   "source": [
    "The labels for this dataset are numerical values from 0 to 9 — but it’s important that our algorithm treats these as items in a set, rather than ordinal values."
   ]
  },
  {
   "cell_type": "code",
   "execution_count": 5,
   "metadata": {},
   "outputs": [],
   "source": [
    "ytrain_enc = np.array(pd.get_dummies(y_train))\n",
    "ytest_enc = np.array(pd.get_dummies(y_test))"
   ]
  },
  {
   "cell_type": "code",
   "execution_count": 10,
   "metadata": {},
   "outputs": [
    {
     "name": "stdout",
     "output_type": "stream",
     "text": [
      "5\n"
     ]
    }
   ],
   "source": [
    "print(y_train[0])"
   ]
  },
  {
   "cell_type": "code",
   "execution_count": 9,
   "metadata": {},
   "outputs": [
    {
     "name": "stdout",
     "output_type": "stream",
     "text": [
      "[0 0 0 0 0 1 0 0 0 0]\n"
     ]
    }
   ],
   "source": [
    "print(ytrain_enc[0])"
   ]
  },
  {
   "cell_type": "markdown",
   "metadata": {},
   "source": [
    "### Implementation"
   ]
  },
  {
   "cell_type": "markdown",
   "metadata": {},
   "source": [
    "**Activation Functions**"
   ]
  },
  {
   "cell_type": "code",
   "execution_count": 33,
   "metadata": {},
   "outputs": [],
   "source": [
    "# z = Wx + b\n",
    "\n",
    "def f(z):\n",
    "    return z\n",
    "\n",
    "def sigmoid(z):\n",
    "    A = 1/(1+math.exp(-z))\n",
    "    return A, z\n",
    "\n",
    "def tanh(z):\n",
    "    return 2/(1+math.exp(-2*z)) - 1\n",
    "\n",
    "def relu(z):\n",
    "    return np.maximum(0.0, z)\n"
   ]
  },
  {
   "cell_type": "markdown",
   "metadata": {},
   "source": [
    "**Network**"
   ]
  },
  {
   "cell_type": "code",
   "execution_count": 29,
   "metadata": {},
   "outputs": [],
   "source": [
    "class NN():\n",
    "\n",
    "    def __init__ (self,sizes,epochs=10, l_rate=0.001):\n",
    "\n",
    "        self.sizes = sizes # sizes = np.array([784,128,64,10])\n",
    "        self.epochs = epochs\n",
    "        self.l_rate = l_rate\n",
    "\n",
    "        self.param = self.initialization()\n",
    "\n",
    "    def initialization(self):\n",
    "\n",
    "        np.random.seed(0)\n",
    "        param = {}\n",
    "\n",
    "        for l in range(1,len(self.sizes)):\n",
    "            param['W'+str(l)] = np.random.rand(self.sizes[l],self.sizes[l-1])\n",
    "            param['b'+str(l)] = np.random.rand(self.sizes[l],1)\n",
    "\n",
    "        return param\n",
    "        \n",
    "    def forward_prop(self,x_train):\n",
    "\n",
    "        A = x_train\n",
    "        L = len(self.param) // 2\n",
    "\n",
    "        caches = np.array([])\n",
    "\n",
    "        for l in range(1,L+1):\n",
    "            A_prev = A\n",
    "\n",
    "            Z = A_prev @ param['W'+str(l)] + param['b'+str(l)]\n",
    "\n",
    "            A, activation_cache = sigmoid(Z)\n",
    "            \n",
    "\n",
    "            \n"
   ]
  },
  {
   "cell_type": "code",
   "execution_count": 32,
   "metadata": {},
   "outputs": [
    {
     "data": {
      "text/plain": [
       "array([[5.48813504e-01, 7.15189366e-01, 6.02763376e-01, ...,\n",
       "        4.26904360e-01, 8.42854888e-01, 8.18033306e-01],\n",
       "       [1.02413758e-01, 1.56383349e-01, 3.04198692e-01, ...,\n",
       "        3.40100746e-01, 6.85968348e-02, 2.28907600e-01],\n",
       "       [3.57983937e-01, 4.35141987e-01, 5.90926726e-01, ...,\n",
       "        9.03285521e-04, 6.98143030e-02, 2.26491278e-01],\n",
       "       ...,\n",
       "       [8.19256962e-01, 3.07418809e-01, 9.85170298e-01, ...,\n",
       "        7.97284578e-01, 7.16974140e-01, 4.66908106e-01],\n",
       "       [9.46473226e-01, 3.45924566e-01, 2.67507997e-01, ...,\n",
       "        4.63363035e-01, 3.77216466e-01, 7.99931083e-01],\n",
       "       [7.30998355e-01, 3.09465228e-01, 6.77624810e-01, ...,\n",
       "        1.86861015e-01, 2.67379767e-01, 4.18513248e-01]])"
      ]
     },
     "execution_count": 32,
     "metadata": {},
     "output_type": "execute_result"
    }
   ],
   "source": [
    "    sizes = np.array([784,128,64,10])\n",
    "    nn = NN(sizes)\n",
    "\n",
    "    nn.param['W1']"
   ]
  },
  {
   "cell_type": "code",
   "execution_count": null,
   "metadata": {},
   "outputs": [],
   "source": []
  }
 ],
 "metadata": {
  "interpreter": {
   "hash": "abfa3a40ca4ae14957eab2c7b2340affb65e642fccfdc8bca44a4575b0473079"
  },
  "kernelspec": {
   "display_name": "Python 3.9.12 ('tf_env')",
   "language": "python",
   "name": "python3"
  },
  "language_info": {
   "codemirror_mode": {
    "name": "ipython",
    "version": 3
   },
   "file_extension": ".py",
   "mimetype": "text/x-python",
   "name": "python",
   "nbconvert_exporter": "python",
   "pygments_lexer": "ipython3",
   "version": "3.9.12"
  },
  "orig_nbformat": 4
 },
 "nbformat": 4,
 "nbformat_minor": 2
}
