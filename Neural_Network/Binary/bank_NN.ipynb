{
 "cells": [
  {
   "cell_type": "markdown",
   "metadata": {},
   "source": [
    "Sibongakonke Kubheka - 1933028"
   ]
  },
  {
   "cell_type": "markdown",
   "metadata": {},
   "source": [
    "# Assignment 2 "
   ]
  },
  {
   "cell_type": "markdown",
   "metadata": {},
   "source": [
    "Bank note authentication using Neural Network"
   ]
  },
  {
   "cell_type": "markdown",
   "metadata": {},
   "source": [
    "**import the necessary libraries**"
   ]
  },
  {
   "cell_type": "code",
   "execution_count": 1,
   "metadata": {},
   "outputs": [],
   "source": [
    "import math\n",
    "import numpy as np\n",
    "import pandas as pd\n",
    "import matplotlib.pyplot as plt\n",
    "import seaborn as sns\n",
    "from sklearn import preprocessing"
   ]
  },
  {
   "cell_type": "markdown",
   "metadata": {},
   "source": [
    "# Dataset"
   ]
  },
  {
   "cell_type": "code",
   "execution_count": 2,
   "metadata": {},
   "outputs": [
    {
     "data": {
      "text/html": [
       "<div>\n",
       "<style scoped>\n",
       "    .dataframe tbody tr th:only-of-type {\n",
       "        vertical-align: middle;\n",
       "    }\n",
       "\n",
       "    .dataframe tbody tr th {\n",
       "        vertical-align: top;\n",
       "    }\n",
       "\n",
       "    .dataframe thead th {\n",
       "        text-align: right;\n",
       "    }\n",
       "</style>\n",
       "<table border=\"1\" class=\"dataframe\">\n",
       "  <thead>\n",
       "    <tr style=\"text-align: right;\">\n",
       "      <th></th>\n",
       "      <th>variance</th>\n",
       "      <th>skewness</th>\n",
       "      <th>curtosis</th>\n",
       "      <th>entropy</th>\n",
       "      <th>class</th>\n",
       "    </tr>\n",
       "  </thead>\n",
       "  <tbody>\n",
       "    <tr>\n",
       "      <th>0</th>\n",
       "      <td>3.62160</td>\n",
       "      <td>8.6661</td>\n",
       "      <td>-2.8073</td>\n",
       "      <td>-0.44699</td>\n",
       "      <td>0</td>\n",
       "    </tr>\n",
       "    <tr>\n",
       "      <th>1</th>\n",
       "      <td>4.54590</td>\n",
       "      <td>8.1674</td>\n",
       "      <td>-2.4586</td>\n",
       "      <td>-1.46210</td>\n",
       "      <td>0</td>\n",
       "    </tr>\n",
       "    <tr>\n",
       "      <th>2</th>\n",
       "      <td>3.86600</td>\n",
       "      <td>-2.6383</td>\n",
       "      <td>1.9242</td>\n",
       "      <td>0.10645</td>\n",
       "      <td>0</td>\n",
       "    </tr>\n",
       "    <tr>\n",
       "      <th>3</th>\n",
       "      <td>3.45660</td>\n",
       "      <td>9.5228</td>\n",
       "      <td>-4.0112</td>\n",
       "      <td>-3.59440</td>\n",
       "      <td>0</td>\n",
       "    </tr>\n",
       "    <tr>\n",
       "      <th>4</th>\n",
       "      <td>0.32924</td>\n",
       "      <td>-4.4552</td>\n",
       "      <td>4.5718</td>\n",
       "      <td>-0.98880</td>\n",
       "      <td>0</td>\n",
       "    </tr>\n",
       "  </tbody>\n",
       "</table>\n",
       "</div>"
      ],
      "text/plain": [
       "   variance  skewness  curtosis  entropy  class\n",
       "0   3.62160    8.6661   -2.8073 -0.44699      0\n",
       "1   4.54590    8.1674   -2.4586 -1.46210      0\n",
       "2   3.86600   -2.6383    1.9242  0.10645      0\n",
       "3   3.45660    9.5228   -4.0112 -3.59440      0\n",
       "4   0.32924   -4.4552    4.5718 -0.98880      0"
      ]
     },
     "execution_count": 2,
     "metadata": {},
     "output_type": "execute_result"
    }
   ],
   "source": [
    "bank_df = pd.read_csv('/Users/smkubheka/Developer/ACML/Neural_Network /BankNote_Authentication.csv')\n",
    "bank_df.head()"
   ]
  },
  {
   "cell_type": "markdown",
   "metadata": {},
   "source": [
    "**Splitting X into training (80%), validation (10%) and testing set (10%)**"
   ]
  },
  {
   "cell_type": "code",
   "execution_count": 3,
   "metadata": {},
   "outputs": [
    {
     "name": "stdout",
     "output_type": "stream",
     "text": [
      "total_size:  1372\n",
      "Training size:  1098\n",
      "Validation size:  137\n",
      "Testing size:  137\n"
     ]
    }
   ],
   "source": [
    "# Shuffling dataset\n",
    "bank_df = bank_df.sample(frac=1, random_state=4)\n",
    "\n",
    "# Splitting dataset\n",
    "total_size = len(bank_df)\n",
    "print(\"total_size: \", total_size)\n",
    "\n",
    "boundaryTrain = round(total_size*0.8)\n",
    "boundaryValid = boundaryTrain + round(total_size*0.1)\n",
    "\n",
    "df_train = bank_df.iloc[0:boundaryTrain,:]\n",
    "df_valid = bank_df.iloc[boundaryTrain:boundaryValid,:]\n",
    "df_test = bank_df.iloc[boundaryValid:,:]\n",
    "\n",
    "print(\"Training size: \", len(df_train))\n",
    "print(\"Validation size: \", len(df_valid))\n",
    "print(\"Testing size: \", len(df_test))"
   ]
  },
  {
   "cell_type": "markdown",
   "metadata": {},
   "source": [
    "**Splitting features and label**\n"
   ]
  },
  {
   "cell_type": "code",
   "execution_count": 4,
   "metadata": {},
   "outputs": [],
   "source": [
    "# Training data \n",
    "\n",
    "y_train = df_train['class'].to_numpy()\n",
    "X_train = df_train.drop(['class'], axis=1).to_numpy()\n",
    "X_train = preprocessing.normalize(X_train) # normalizing data\n",
    "\n",
    "\n",
    "# Validation data \n",
    "\n",
    "y_valid = df_valid['class'].to_numpy()\n",
    "X_valid = df_valid.drop(['class'], axis=1).to_numpy()\n",
    "X_valid = preprocessing.normalize(X_valid)\n",
    "\n",
    "# Testing data \n",
    "\n",
    "y_test = df_test['class'].to_numpy()\n",
    "X_test = df_test.drop(['class'], axis=1).to_numpy()\n",
    "X_test = preprocessing.normalize(X_test)\n"
   ]
  },
  {
   "cell_type": "code",
   "execution_count": 5,
   "metadata": {},
   "outputs": [],
   "source": [
    "# Transposing data\n",
    "\n",
    "X_train = X_train.T\n",
    "y_train = y_train.reshape(len(y_train),1).T\n",
    "\n",
    "X_valid = X_valid.T\n",
    "y_valid = y_valid.reshape(len(y_valid),1).T\n",
    "\n",
    "X_test = X_test.T\n",
    "y_test = y_test.reshape(len(y_test),1).T"
   ]
  },
  {
   "cell_type": "markdown",
   "metadata": {},
   "source": [
    "# Model Building "
   ]
  },
  {
   "cell_type": "markdown",
   "metadata": {},
   "source": [
    "## Functions"
   ]
  },
  {
   "cell_type": "markdown",
   "metadata": {},
   "source": [
    "**Activation Functions**\n",
    "\n",
    "- Sigmoid\n",
    "- Tanh\n",
    "- ReLU"
   ]
  },
  {
   "cell_type": "code",
   "execution_count": 6,
   "metadata": {},
   "outputs": [],
   "source": [
    "# z = Wx + b\n",
    "\n",
    "def sigmoid(Z):\n",
    "    return 1/(1+np.exp(-Z))\n",
    "\n",
    "def tanh(Z):\n",
    "    return (np.exp(Z)-np.exp(-Z))/(np.exp(Z)+np.exp(-Z))\n",
    "\n",
    "def relu(Z):\n",
    "    return np.maximum(0,Z)    \n",
    "\n",
    "def softmax(Z):\n",
    "    expZ = np.exp(Z)\n",
    "    return expZ / expZ.sum()"
   ]
  },
  {
   "cell_type": "markdown",
   "metadata": {},
   "source": [
    "**Derviative of activation function**\n",
    "\n",
    "These derivative of activation function are used in back propagation."
   ]
  },
  {
   "cell_type": "code",
   "execution_count": 7,
   "metadata": {},
   "outputs": [],
   "source": [
    "def sigmoid_deriv(Z):    \n",
    "    return Z*(1-Z) # my Z is A\n",
    "\n",
    "def tanh_deriv(Z):\n",
    "    return 1.0 - pow(tanh(Z),2)\n",
    "\n",
    "def relu_deriv(Z):\n",
    "    # Z -> cache\n",
    "    return np.where(Z >= 0, 1, 0)"
   ]
  },
  {
   "cell_type": "markdown",
   "metadata": {},
   "source": [
    "## Implementation"
   ]
  },
  {
   "cell_type": "code",
   "execution_count": 8,
   "metadata": {},
   "outputs": [],
   "source": [
    "class NN():\n",
    "\n",
    "    def __init__ (self,layer_dims,activation,epochs=10,l_rate=0.001,reg=0):\n",
    "\n",
    "        \"\"\"\n",
    "        Arguments:\n",
    "        \n",
    "        layer dims -- list holding the number of nodes in each layer. e.g. [4,5,1]\n",
    "        activation -- string that specifies the activation function to be used by NN\n",
    "        epochs -- the number of epochs in gradient descent loop \n",
    "        l_rate -- the learning rate \n",
    "        reg -- the regularization constant \n",
    "        \n",
    "        \"\"\"\n",
    "\n",
    "        self.layer_dims = layer_dims # layer_dims = np.array([784,128,64,10])\n",
    "        self.activation = activation\n",
    "        self.epochs = epochs\n",
    "        self.l_rate = l_rate\n",
    "        self.reg = reg\n",
    "        self.loss_history = []\n",
    "\n",
    "        self.param, self.cache, self.grads = self.initialization()\n",
    "\n",
    "    def initialization(self):\n",
    "\n",
    "        '''\n",
    "        Parameters:\n",
    "        Initialization of the networks parameters (Weights and biases).\n",
    "        The weight matrices (a,b) are initialized with random values [0,1), and the bias vectors (b,1) are zeros. \n",
    "        \n",
    "        Cache:\n",
    "        Dictionaries to store our activations (A) and our dot products (Z)\n",
    "\n",
    "        Grads:\n",
    "        Dictionaries to store the derivatives of our parameters (dW and db)\n",
    "\n",
    "        '''\n",
    "\n",
    "        W = []\n",
    "        b = [] \n",
    "\n",
    "        dW = []\n",
    "        db = []\n",
    "       \n",
    "        Z = []\n",
    "        A = []\n",
    "\n",
    "        cache = {\n",
    "            'Z':Z,\n",
    "            'A':A\n",
    "        }\n",
    "\n",
    "        grads = {\n",
    "            'dW':dW,\n",
    "            'db':db\n",
    "        }\n",
    "\n",
    "        np.random.seed(4)\n",
    "\n",
    "        for l in range(0,len(self.layer_dims)-1):\n",
    "            W.append(np.random.randn(self.layer_dims[l+1],self.layer_dims[l])*0.01)\n",
    "            b.append(np.zeros((self.layer_dims[l+1],1)))\n",
    "\n",
    "        param = {\n",
    "            'W':W,\n",
    "            'b':b\n",
    "        }\n",
    "\n",
    "        return param, cache, grads\n",
    "\n",
    "    def activate(self,Z):\n",
    "\n",
    "        '''\n",
    "        Performs the chosen activation on our dot product Z. \n",
    "\n",
    "        Argument:\n",
    "        Z -- In\n",
    "\n",
    "        Output: Activation A \n",
    "\n",
    "        '''\n",
    "\n",
    "        A = None\n",
    "\n",
    "        if self.activation == 'sigmoid':\n",
    "            A = sigmoid(Z)\n",
    "\n",
    "        elif self.activation == 'tanh':\n",
    "            A = tanh(Z)\n",
    "\n",
    "        elif self.activation == 'relu':\n",
    "            A = relu(Z)\n",
    "\n",
    "        return np.squeeze(A)\n",
    "        \n",
    "    def forward_prop(self,x_train):\n",
    "\n",
    "        \"\"\"\n",
    "        Implements forward propagation. \n",
    "\n",
    "        Argument:\n",
    "        X -- dataset of shape (4, number of examples)\n",
    "\n",
    "        \"\"\"\n",
    "\n",
    "        A = []\n",
    "        A.append(x_train)\n",
    "\n",
    "        Z = []\n",
    "\n",
    "        W = self.param['W']\n",
    "        b = self.param['b']\n",
    "\n",
    "        for l in range(0,(len(W))):\n",
    "            \n",
    "            Z.append(W[l] @ A[l] + b[l])\n",
    "\n",
    "            if l != len(W)-1:\n",
    "                A.append(self.activate(Z[l]))\n",
    "            else:\n",
    "                A.append(sigmoid(Z[l]))\n",
    "            \n",
    "        self.cache = {\n",
    "            'Z':Z,\n",
    "            'A':A\n",
    "        }\n",
    "\n",
    "    def forward_pass(self,x_train):\n",
    "\n",
    "        \"\"\"\n",
    "        Performs forward propagation but returning the sigmoid output\n",
    "\n",
    "        Argument:\n",
    "        X -- dataset of shape (4, number of examples)\n",
    "        \"\"\"\n",
    "\n",
    "        A = []\n",
    "        A.append(x_train)\n",
    "\n",
    "        W = self.param['W']\n",
    "        b = self.param['b']\n",
    "\n",
    "        for l in range(0,(len(W))):\n",
    "\n",
    "            Z_l = W[l] @ A[l] + b[l]\n",
    "\n",
    "            if l != len(W)-1:\n",
    "                A.append(self.activate(Z_l))\n",
    "            else:\n",
    "                A.append(sigmoid(Z_l))\n",
    "\n",
    "        return A[-1]\n",
    "\n",
    "    def loss_fn(self,AL,y):\n",
    "        ''' \n",
    "        Loss function: (categorical) cross entropy \n",
    "\n",
    "        Arguments:\n",
    "        AL -- The sigmoid output of the final activation of shape (1,number of examples)\n",
    "        y -- \"true\" labels vector of shape (1, number of examples)\n",
    "        \n",
    "        Returns: \n",
    "        cost - the cross entropy cost \n",
    "        '''\n",
    "        \n",
    "        m = y.shape[1] # number of example\n",
    "\n",
    "        cost = (-1 / m) * np.sum((y * np.log(AL)) + ((1 - y) * np.log(1 - AL)))\n",
    "        cost = float(np.squeeze(cost))\n",
    "\n",
    "        return cost\n",
    "\n",
    "    def activate_backwards(self,A):\n",
    "\n",
    "        '''\n",
    "        Performs the chosen derivative activation on our activation A \n",
    "\n",
    "        Arguments\n",
    "        A -- Activation A\n",
    "\n",
    "        Returns: \n",
    "        dA -- Derivative of A \n",
    "        \n",
    "        '''\n",
    "\n",
    "        dA = None\n",
    "\n",
    "        if self.activation == 'sigmoid':\n",
    "            dA = sigmoid_deriv(A)\n",
    "\n",
    "        elif self.activation == 'tanh':\n",
    "            dA = tanh_deriv(A)\n",
    "\n",
    "        elif self.activation == 'relu':\n",
    "            dA = relu_deriv(A)\n",
    "\n",
    "        return dA\n",
    "\n",
    "    def backprop(self,y):\n",
    "\n",
    "        \"\"\"\n",
    "        Implement the backward propagation, calculating the gradients dW and db\n",
    "\n",
    "        Arguments:\n",
    "        y -- \"true\" labels vector of shape (1, number of examples)\n",
    "\n",
    "        \"\"\"\n",
    "        m = y.shape[1]\n",
    "\n",
    "        W = self.param['W']\n",
    "        b = self.param['b']\n",
    "\n",
    "        A = self.cache['A']\n",
    "\n",
    "        dW = []\n",
    "        db = []\n",
    "\n",
    "        dZ = A[-1] - y\n",
    "\n",
    "        for i in range(len(W)-1,-1,-1): \n",
    "\n",
    "            dWi = (1/m) * np.dot(dZ,A[i].T) + self.reg * W[i]\n",
    "            dbi = (1/m) * np.sum(dZ, axis=1, keepdims=True)\n",
    "\n",
    "            dW.insert(0,dWi)\n",
    "            db.insert(0,dbi)\n",
    "\n",
    "            dZ = np.dot(W[i].T,dZ) * self.activate_backwards(A[i])\n",
    "\n",
    "        self.grads = {\n",
    "            'dW': dW,\n",
    "            'db': db\n",
    "        }\n",
    "\n",
    "    def update_parameters(self):\n",
    "\n",
    "        \"\"\"\n",
    "        Updates the parameters (W and b) using the gradient descent update rule.\n",
    "\n",
    "        \"\"\"\n",
    "\n",
    "        W = self.param[\"W\"]\n",
    "        b = self.param[\"b\"]\n",
    "\n",
    "        dW = self.grads[\"dW\"]\n",
    "        db = self.grads[\"db\"]\n",
    "        \n",
    "        for l in range(0,len(W)):\n",
    "            W[l] = W[l] - (self.l_rate * dW[l])\n",
    "            b[l] = b[l] - (self.l_rate * db[l])\n",
    "\n",
    "        self.params = {\n",
    "            'W': W,\n",
    "            'b': b\n",
    "        }\n",
    "          \n",
    "    def plot_loss(self,losses):\n",
    "\n",
    "        \"\"\"\n",
    "        Plot graph.\n",
    "\n",
    "        Argument: \n",
    "        costs -- cost history from training\n",
    "\n",
    "        \"\"\"\n",
    "\n",
    "        x_value=list(range(1,len(losses)+1))\n",
    "        plt.xlabel('epochs')\n",
    "        plt.ylabel('loss')\n",
    "        plt.plot(x_value,losses,0.,color='g')\n",
    "\n",
    "    def fit(self,X,y,print_loss=False): # stochastic gradient descent\n",
    "\n",
    "        \"\"\"\n",
    "        Training the parameters. These parameters will be used for predictions. \n",
    "\n",
    "        Arguments:\n",
    "        X -- dataset of shape (4, number of examples)\n",
    "        Y -- labels of shape (1, number of examples)\n",
    "        print_cost -- if True, print the cost every x iterations\n",
    "\n",
    "        \"\"\"\n",
    "            \n",
    "        losses = [] \n",
    "        accuracies = []\n",
    "\n",
    "        for epoch in range(self.epochs):\n",
    "            \n",
    "            self.forward_prop(X)\n",
    "            AL = self.cache[\"A\"][-1]\n",
    "            self.backprop(y)\n",
    "            self.update_parameters()\n",
    "            loss = self.loss_fn(AL,y)\n",
    "            losses.append(loss)\n",
    "\n",
    "            if print_loss == True and epoch%100==0:\n",
    "                print('Epoch {epoch}==> Loss = {loss}'.format(epoch=epoch, loss=loss))\n",
    "\n",
    "        self.plot_loss(losses)\n",
    "        self.loss_history = losses\n",
    "\n",
    "    def predict(self,X):\n",
    "\n",
    "        \"\"\"\n",
    "        Using the learned parameters, predicts a class for each example in X\n",
    "        \n",
    "        Arguments:\n",
    "        X -- input data of size (m, n) : m - no. of features (4), n - no of entries\n",
    "        \n",
    "        Returns\n",
    "        predictions -- vector of predictions of our model (fraudulent : 0 / authentic: 1)\n",
    "\n",
    "        \"\"\"\n",
    "    \n",
    "        AL = np.squeeze(self.forward_pass(X))\n",
    "        threshold = 0.5 \n",
    "        predictions = (AL > threshold)\n",
    "    \n",
    "        return predictions.T\n",
    "\n",
    "    def accuracy(self,y, y_hat):\n",
    "        return np.mean(y == y_hat)"
   ]
  },
  {
   "cell_type": "code",
   "execution_count": 9,
   "metadata": {},
   "outputs": [],
   "source": [
    "def plot_compare(train_losses,valid_losses,test_losses):\n",
    "\n",
    "    x_value=list(range(1,len(train_losses)+1))\n",
    "\n",
    "    plt.plot(x_value,train_losses)\n",
    "    plt.plot(x_value,valid_losses)\n",
    "    plt.plot(x_value,test_losses)\n",
    "\n",
    "    plt.legend([\"Training\", \"Validation\", \"Testing\"])\n",
    "    "
   ]
  },
  {
   "cell_type": "code",
   "execution_count": 10,
   "metadata": {},
   "outputs": [
    {
     "name": "stdout",
     "output_type": "stream",
     "text": [
      "Epoch 0==> Loss = 0.693222748434071\n",
      "Epoch 100==> Loss = 0.5870246286088631\n",
      "Accuracy 0.9626593806921676\n"
     ]
    },
    {
     "data": {
      "image/png": "[encoded data removed]",
      "text/plain": [
       "<Figure size 432x288 with 1 Axes>"
      ]
     },
     "metadata": {
      "needs_background": "light"
     },
     "output_type": "display_data"
    }
   ],
   "source": [
    "# Checking cell \n",
    "\n",
    "epochs = 200\n",
    "lr = 0.9\n",
    "reg = 0\n",
    "\n",
    "layers_dims = np.array([4,5,1])\n",
    "\n",
    "model_train = NN(layers_dims,\"sigmoid\",epochs,lr,reg)\n",
    "model_train.fit(X_train,y_train,True)\n",
    "train_pred = model_train.predict(X_train)\n",
    "print(\"Accuracy\", model_train.accuracy(train_pred,y_train))"
   ]
  },
  {
   "cell_type": "markdown",
   "metadata": {},
   "source": [
    "## Hyperparameter Tuning"
   ]
  },
  {
   "cell_type": "markdown",
   "metadata": {},
   "source": [
    "For epochs, learning rate, regularization constant "
   ]
  },
  {
   "cell_type": "markdown",
   "metadata": {},
   "source": [
    "#### Epochs:"
   ]
  },
  {
   "cell_type": "code",
   "execution_count": 11,
   "metadata": {},
   "outputs": [
    {
     "name": "stdout",
     "output_type": "stream",
     "text": [
      "Epoch 0==> Loss = 0.693222748434071\n",
      "Epoch 100==> Loss = 0.5870246286088631\n",
      "Epoch 200==> Loss = 0.17727668252073026\n",
      "Epoch 300==> Loss = 0.09189494165153438\n",
      "Epoch 400==> Loss = 0.06488910954632936\n",
      "Epoch 500==> Loss = 0.051566224391015124\n",
      "Epoch 600==> Loss = 0.043593551493238056\n",
      "Epoch 700==> Loss = 0.03833199383867363\n",
      "Epoch 800==> Loss = 0.03462832702297756\n",
      "Epoch 900==> Loss = 0.03189181726287667\n",
      "Epoch 1000==> Loss = 0.029791568234074736\n",
      "Epoch 1100==> Loss = 0.028130052874976448\n",
      "Epoch 1200==> Loss = 0.0267831555235783\n",
      "Epoch 1300==> Loss = 0.025669420522849793\n",
      "Epoch 1400==> Loss = 0.024733331668743166\n",
      "Epoch 1500==> Loss = 0.023935781194956655\n",
      "Epoch 1600==> Loss = 0.023248414345999474\n",
      "Epoch 1700==> Loss = 0.022650151919222736\n",
      "Epoch 1800==> Loss = 0.02212498111724728\n",
      "Epoch 1900==> Loss = 0.021660508940542552\n",
      "Accuracy:  1.0\n"
     ]
    },
    {
     "data": {
      "image/png": "[encoded data removed]",
      "text/plain": [
       "<Figure size 432x288 with 1 Axes>"
      ]
     },
     "metadata": {
      "needs_background": "light"
     },
     "output_type": "display_data"
    }
   ],
   "source": [
    "# Check 1 \n",
    "\n",
    "epochs = 2000\n",
    "lr = 0.9\n",
    "reg = 0\n",
    "\n",
    "layers_dims = np.array([4,5,1])\n",
    "\n",
    "model = NN(layers_dims,\"sigmoid\",epochs,lr,reg)\n",
    "model.fit(X_train,y_train, True)\n",
    "valid_pred = model.predict(X_valid)\n",
    "print(\"Accuracy: \", model.accuracy(valid_pred,y_valid))"
   ]
  },
  {
   "cell_type": "code",
   "execution_count": 12,
   "metadata": {},
   "outputs": [
    {
     "name": "stdout",
     "output_type": "stream",
     "text": [
      "Epoch 0==> Loss = 0.693222748434071\n",
      "Epoch 100==> Loss = 0.5870246286088631\n",
      "Epoch 200==> Loss = 0.17727668252073026\n",
      "Epoch 300==> Loss = 0.09189494165153438\n",
      "Accuracy:  1.0\n"
     ]
    },
    {
     "data": {
      "image/png": "[encoded data removed]",
      "text/plain": [
       "<Figure size 432x288 with 1 Axes>"
      ]
     },
     "metadata": {
      "needs_background": "light"
     },
     "output_type": "display_data"
    }
   ],
   "source": [
    "# Check 2 \n",
    "\n",
    "epochs = 400\n",
    "lr = 0.9\n",
    "reg = 0\n",
    "\n",
    "layers_dims = np.array([4,5,1])\n",
    "\n",
    "model = NN(layers_dims,\"sigmoid\",epochs,lr,reg)\n",
    "model.fit(X_train,y_train, True)\n",
    "valid_pred = model.predict(X_valid)\n",
    "print(\"Accuracy: \", model.accuracy(valid_pred,y_valid))"
   ]
  },
  {
   "cell_type": "markdown",
   "metadata": {},
   "source": [
    "The chosen epochs bove (check 2) results in the model achieving a perfect able to achieve this perfect accruacy.  Anything above this will achieve a perfect accuracy (check 1) too. Looking at check 1, we can see that even after 2000 iterations, there are still signicicant changes in the size of the loss. This suggests that an epoch that large, and possibly even larger, will be more optimal for the model. "
   ]
  },
  {
   "cell_type": "markdown",
   "metadata": {},
   "source": [
    "#### Learning rate:"
   ]
  },
  {
   "cell_type": "code",
   "execution_count": 13,
   "metadata": {},
   "outputs": [
    {
     "name": "stdout",
     "output_type": "stream",
     "text": [
      "Accuracy:  0.7737226277372263\n"
     ]
    },
    {
     "data": {
      "image/png": "[encoded data removed]",
      "text/plain": [
       "<Figure size 432x288 with 1 Axes>"
      ]
     },
     "metadata": {
      "needs_background": "light"
     },
     "output_type": "display_data"
    }
   ],
   "source": [
    "# Check 1 \n",
    "# Smaller learning rate \n",
    "\n",
    "epochs = 200\n",
    "lr = 0.5\n",
    "reg = 0\n",
    "\n",
    "layers_dims = np.array([4,5,1])\n",
    "\n",
    "model = NN(layers_dims,\"sigmoid\",epochs,lr,reg)\n",
    "model.fit(X_train,y_train)\n",
    "valid_pred = model.predict(X_valid)\n",
    "print(\"Accuracy: \", model.accuracy(valid_pred,y_valid))"
   ]
  },
  {
   "cell_type": "markdown",
   "metadata": {},
   "source": [
    "The learning rate is too low here as it takes longer to converge "
   ]
  },
  {
   "cell_type": "code",
   "execution_count": 14,
   "metadata": {},
   "outputs": [
    {
     "name": "stdout",
     "output_type": "stream",
     "text": [
      "Accuracy:  1.0\n"
     ]
    },
    {
     "data": {
      "image/png": "[encoded data removed]",
      "text/plain": [
       "<Figure size 432x288 with 1 Axes>"
      ]
     },
     "metadata": {
      "needs_background": "light"
     },
     "output_type": "display_data"
    }
   ],
   "source": [
    "# Check 2 \n",
    "# Larger learning rate \n",
    "\n",
    "epochs = 200\n",
    "lr = 1.5\n",
    "reg = 0\n",
    "\n",
    "layers_dims = np.array([4,5,1])\n",
    "\n",
    "model = NN(layers_dims,\"sigmoid\",epochs,lr,reg)\n",
    "model.forward_prop(X_train)\n",
    "model.fit(X_train,y_train)\n",
    "valid_pred = model.predict(X_valid)\n",
    "print(\"Accuracy: \", model.accuracy(valid_pred,y_valid))"
   ]
  },
  {
   "cell_type": "markdown",
   "metadata": {},
   "source": [
    "A larger learning rate does result in a high accuracy still. However, we should be weary here as this will not necessarily translate to that on the test data. The network could be overfitting in this case. "
   ]
  },
  {
   "cell_type": "markdown",
   "metadata": {},
   "source": [
    "#### Regularization:"
   ]
  },
  {
   "cell_type": "code",
   "execution_count": 15,
   "metadata": {},
   "outputs": [
    {
     "name": "stdout",
     "output_type": "stream",
     "text": [
      "Accuracy:  0.948905109489051\n"
     ]
    },
    {
     "data": {
      "image/png": "[encoded data removed]",
      "text/plain": [
       "<Figure size 432x288 with 1 Axes>"
      ]
     },
     "metadata": {
      "needs_background": "light"
     },
     "output_type": "display_data"
    }
   ],
   "source": [
    "# Check 1\n",
    "# Small reg constant\n",
    "\n",
    "epochs = 200\n",
    "lr = 0.9\n",
    "reg = 0.01\n",
    "\n",
    "layers_dims = np.array([4,5,1])\n",
    "\n",
    "model = NN(layers_dims,\"sigmoid\",epochs,lr,reg)\n",
    "model.forward_prop(X_train)\n",
    "model.fit(X_train,y_train)\n",
    "valid_pred = model.predict(X_valid)\n",
    "print(\"Accuracy: \", model.accuracy(valid_pred,y_valid))"
   ]
  },
  {
   "cell_type": "code",
   "execution_count": 16,
   "metadata": {},
   "outputs": [
    {
     "name": "stdout",
     "output_type": "stream",
     "text": [
      "Accuracy:  0.48905109489051096\n"
     ]
    },
    {
     "data": {
      "image/png": "[encoded data removed]",
      "text/plain": [
       "<Figure size 432x288 with 1 Axes>"
      ]
     },
     "metadata": {
      "needs_background": "light"
     },
     "output_type": "display_data"
    }
   ],
   "source": [
    "# Check 2\n",
    "# Larger reg constant\n",
    "\n",
    "epochs = 200\n",
    "lr = 0.9\n",
    "reg = 0.1\n",
    "\n",
    "layers_dims = np.array([4,5,1])\n",
    "\n",
    "model = NN(layers_dims,\"sigmoid\",epochs,lr,reg)\n",
    "model.forward_prop(X_train)\n",
    "model.fit(X_train,y_train)\n",
    "valid_pred = model.predict(X_valid)\n",
    "print(\"Accuracy: \", model.accuracy(valid_pred,y_valid))"
   ]
  },
  {
   "cell_type": "markdown",
   "metadata": {},
   "source": [
    "Increasing the bias by both a small (check 1) and a large amount (check 2) results in no improvement. This could attributed to the fact that the neural network underfits the data more as a result of these changes. This subsequently leads to a poorer performance. "
   ]
  },
  {
   "cell_type": "markdown",
   "metadata": {},
   "source": [
    "#### Together:"
   ]
  },
  {
   "cell_type": "code",
   "execution_count": 17,
   "metadata": {},
   "outputs": [
    {
     "name": "stdout",
     "output_type": "stream",
     "text": [
      "Accuracy:  1.0\n"
     ]
    },
    {
     "data": {
      "image/png": "[encoded data removed]",
      "text/plain": [
       "<Figure size 432x288 with 1 Axes>"
      ]
     },
     "metadata": {
      "needs_background": "light"
     },
     "output_type": "display_data"
    }
   ],
   "source": [
    "# Validation\n",
    "\n",
    "epochs = 2000\n",
    "lr = 0.9\n",
    "reg = 0\n",
    "\n",
    "layers_dims = np.array([4,5,1])\n",
    "\n",
    "model_valid = NN(layers_dims,\"sigmoid\",epochs,lr,reg)\n",
    "model_valid.fit(X_train,y_train)\n",
    "valid_pred= model_valid.predict(X_valid)\n",
    "print(\"Accuracy: \", model_valid.accuracy(valid_pred,y_valid))"
   ]
  },
  {
   "cell_type": "markdown",
   "metadata": {},
   "source": [
    "## Testing"
   ]
  },
  {
   "cell_type": "code",
   "execution_count": 18,
   "metadata": {},
   "outputs": [
    {
     "name": "stdout",
     "output_type": "stream",
     "text": [
      "Accuracy:  0.9927007299270073\n"
     ]
    },
    {
     "data": {
      "image/png": "[encoded data removed]",
      "text/plain": [
       "<Figure size 432x288 with 1 Axes>"
      ]
     },
     "metadata": {
      "needs_background": "light"
     },
     "output_type": "display_data"
    }
   ],
   "source": [
    "# Test\n",
    "\n",
    "epochs = 2000\n",
    "lr = 0.9\n",
    "reg = 0\n",
    "\n",
    "layers_dims = np.array([4,5,1])\n",
    "\n",
    "model_test = NN(layers_dims,\"sigmoid\",epochs,lr,reg)\n",
    "model_test.fit(X_train,y_train)\n",
    "test_pred= model_test.predict(X_test)\n",
    "print(\"Accuracy: \", model_test.accuracy(test_pred,y_test))"
   ]
  },
  {
   "cell_type": "markdown",
   "metadata": {},
   "source": [
    "# Different Activation Functions"
   ]
  },
  {
   "cell_type": "markdown",
   "metadata": {},
   "source": [
    "## Tanh"
   ]
  },
  {
   "cell_type": "code",
   "execution_count": 28,
   "metadata": {},
   "outputs": [
    {
     "data": {
      "text/plain": [
       "0.9927007299270073"
      ]
     },
     "execution_count": 28,
     "metadata": {},
     "output_type": "execute_result"
    },
    {
     "data": {
      "image/png": "[encoded data removed]",
      "text/plain": [
       "<Figure size 432x288 with 1 Axes>"
      ]
     },
     "metadata": {
      "needs_background": "light"
     },
     "output_type": "display_data"
    }
   ],
   "source": [
    "# Tanh\n",
    "\n",
    "epochs = 150\n",
    "lr = 0.9\n",
    "reg = 0\n",
    "\n",
    "layers_dims = np.array([4,5,1])\n",
    "\n",
    "model_tan = NN(layers_dims,\"tanh\",epochs,lr,reg)\n",
    "model_tan.fit(X_train,y_train)\n",
    "test_pred = model_tan.predict(X_test)\n",
    "model_tan.accuracy(test_pred,y_test)"
   ]
  },
  {
   "cell_type": "markdown",
   "metadata": {},
   "source": [
    "Using tanh as the activation function results in a similar perfomance compared to that of the sigmoid function. Important note, is that tanh is able to achieve this result in fewer iterations. The reason for this is that the derivatives of tanh are more steep, which means it can get more value. This means that it will be more efficient because it has a wider range for faster learning."
   ]
  },
  {
   "cell_type": "markdown",
   "metadata": {},
   "source": [
    "## ReLU"
   ]
  },
  {
   "cell_type": "code",
   "execution_count": 20,
   "metadata": {},
   "outputs": [
    {
     "name": "stderr",
     "output_type": "stream",
     "text": [
      "/var/folders/gh/gt862nnn0pzcpy32nnk1p8bh0000gn/T/ipykernel_95184/1539597536.py:169: RuntimeWarning: divide by zero encountered in log\n",
      "  cost = (-1 / m) * np.sum((y * np.log(AL)) + ((1 - y) * np.log(1 - AL)))\n",
      "/var/folders/gh/gt862nnn0pzcpy32nnk1p8bh0000gn/T/ipykernel_95184/1539597536.py:169: RuntimeWarning: invalid value encountered in multiply\n",
      "  cost = (-1 / m) * np.sum((y * np.log(AL)) + ((1 - y) * np.log(1 - AL)))\n"
     ]
    },
    {
     "data": {
      "text/plain": [
       "0.9927007299270073"
      ]
     },
     "execution_count": 20,
     "metadata": {},
     "output_type": "execute_result"
    },
    {
     "data": {
      "image/png": "[encoded data removed]",
      "text/plain": [
       "<Figure size 432x288 with 1 Axes>"
      ]
     },
     "metadata": {
      "needs_background": "light"
     },
     "output_type": "display_data"
    }
   ],
   "source": [
    "# ReLU \n",
    "\n",
    "epochs = 500\n",
    "lr = 0.9\n",
    "reg = 0\n",
    "\n",
    "layers_dims = np.array([4,5,1])\n",
    "\n",
    "model_rel = NN(layers_dims,\"relu\",epochs,lr,reg)\n",
    "model_rel.fit(X_train,y_train)\n",
    "test_pred = model_rel.predict(X_test)\n",
    "model_rel.accuracy(test_pred,y_test)"
   ]
  },
  {
   "cell_type": "markdown",
   "metadata": {},
   "source": [
    "Similar to tanh, ReLu is faster to compute than the sigmoid function, and its derivative is faster to compute. This makes a significant difference to training and inference time for the neural network. Not as fast as tanh though. "
   ]
  },
  {
   "cell_type": "markdown",
   "metadata": {},
   "source": [
    "# Exploring the effect of network size on generalizability"
   ]
  },
  {
   "cell_type": "markdown",
   "metadata": {},
   "source": [
    "### Altering number of hidden layers"
   ]
  },
  {
   "cell_type": "markdown",
   "metadata": {},
   "source": [
    "Hidden layers: 0"
   ]
  },
  {
   "cell_type": "code",
   "execution_count": 21,
   "metadata": {},
   "outputs": [
    {
     "name": "stdout",
     "output_type": "stream",
     "text": [
      "Accuracy:  0.9927007299270073\n"
     ]
    },
    {
     "data": {
      "image/png": "[encoded data removed]",
      "text/plain": [
       "<Figure size 432x288 with 1 Axes>"
      ]
     },
     "metadata": {
      "needs_background": "light"
     },
     "output_type": "display_data"
    }
   ],
   "source": [
    "# Checking cell \n",
    "\n",
    "epochs = 2000\n",
    "lr = 0.9\n",
    "reg = 0\n",
    "\n",
    "layers_dims = np.array([4,4,1])\n",
    "\n",
    "model = NN(layers_dims,\"sigmoid\",epochs,lr,reg)\n",
    "model.fit(X_train,y_train)\n",
    "test_pred= model.predict(X_test)\n",
    "print(\"Accuracy: \", model.accuracy(test_pred,y_test))"
   ]
  },
  {
   "cell_type": "markdown",
   "metadata": {},
   "source": [
    "Hidden layers: 1"
   ]
  },
  {
   "cell_type": "code",
   "execution_count": 22,
   "metadata": {},
   "outputs": [
    {
     "name": "stdout",
     "output_type": "stream",
     "text": [
      "Accuracy:  0.583941605839416\n"
     ]
    },
    {
     "data": {
      "image/png": "[encoded data removed]",
      "text/plain": [
       "<Figure size 432x288 with 1 Axes>"
      ]
     },
     "metadata": {
      "needs_background": "light"
     },
     "output_type": "display_data"
    }
   ],
   "source": [
    "# Checking cell \n",
    "\n",
    "epochs = 2000\n",
    "lr = 0.9\n",
    "reg = 0\n",
    "\n",
    "layers_dims = np.array([4,4,4,1])\n",
    "\n",
    "model_2 = NN(layers_dims,\"sigmoid\",epochs,lr,reg)\n",
    "model_2.fit(X_train,y_train)\n",
    "test_pred_2 = model_2.predict(X_test)\n",
    "print(\"Accuracy: \", model.accuracy(test_pred_2,y_test))"
   ]
  },
  {
   "cell_type": "markdown",
   "metadata": {},
   "source": [
    "Increasing the number of hidden layers allows the network to learn the underlying patterns in the data - improving the results. However, the dangers with increasing the number of hidden layers and having too many hidden layers is overfitting. The network, in this case, is unable to generalize to new unseen data. This is evident when we compare the networks perfomance when it has one hidden layer and when it has two. Having one hidden layer, the neural net performs excetpionally, but adding an extra hidden layer to this results in the neural net performing very poorly "
   ]
  },
  {
   "cell_type": "markdown",
   "metadata": {},
   "source": [
    "Hidden layers: 3"
   ]
  },
  {
   "cell_type": "code",
   "execution_count": 23,
   "metadata": {},
   "outputs": [
    {
     "name": "stdout",
     "output_type": "stream",
     "text": [
      "Accuracy:  0.583941605839416\n"
     ]
    },
    {
     "data": {
      "image/png": "[encoded data removed]",
      "text/plain": [
       "<Figure size 432x288 with 1 Axes>"
      ]
     },
     "metadata": {
      "needs_background": "light"
     },
     "output_type": "display_data"
    }
   ],
   "source": [
    "# Checking cell \n",
    "\n",
    "epochs = 200\n",
    "lr = 0.9\n",
    "reg = 0.1\n",
    "\n",
    "layers_dims = np.array([4,4,5,4,1])\n",
    "\n",
    "model_3 = NN(layers_dims,\"sigmoid\",epochs,lr,reg)\n",
    "model_3.fit(X_train,y_train)\n",
    "test_pred_3 = model_3.predict(X_test)\n",
    "print(\"Accuracy: \", model_3.accuracy(test_pred_3,y_test))"
   ]
  },
  {
   "cell_type": "markdown",
   "metadata": {},
   "source": [
    "### Altering the number of neurons "
   ]
  },
  {
   "cell_type": "code",
   "execution_count": 24,
   "metadata": {},
   "outputs": [
    {
     "name": "stdout",
     "output_type": "stream",
     "text": [
      "Accuracy:  0.9781021897810219\n"
     ]
    },
    {
     "data": {
      "image/png": "[encoded data removed]",
      "text/plain": [
       "<Figure size 432x288 with 1 Axes>"
      ]
     },
     "metadata": {
      "needs_background": "light"
     },
     "output_type": "display_data"
    }
   ],
   "source": [
    "# Check 1: 5 hidden neurons\n",
    "\n",
    "epochs = 200\n",
    "lr = 0.9\n",
    "reg = 0\n",
    "\n",
    "layers_dims = np.array([4,5,1])\n",
    "\n",
    "model = NN(layers_dims,\"sigmoid\",epochs,lr,reg)\n",
    "model.fit(X_train,y_train)\n",
    "test_pred = model.predict(X_test)\n",
    "print(\"Accuracy: \", model.accuracy(test_pred,y_test))"
   ]
  },
  {
   "cell_type": "code",
   "execution_count": 25,
   "metadata": {},
   "outputs": [
    {
     "name": "stdout",
     "output_type": "stream",
     "text": [
      "Accuracy:  0.9708029197080292\n"
     ]
    },
    {
     "data": {
      "image/png": "[encoded data removed]",
      "text/plain": [
       "<Figure size 432x288 with 1 Axes>"
      ]
     },
     "metadata": {
      "needs_background": "light"
     },
     "output_type": "display_data"
    }
   ],
   "source": [
    "# Check 2: 10 hidden neurons\n",
    "\n",
    "epochs = 200\n",
    "lr = 0.9\n",
    "reg = 0\n",
    "\n",
    "layers_dims = np.array([4,10,1])\n",
    "\n",
    "model = NN(layers_dims,\"sigmoid\",epochs,lr,reg)\n",
    "model.fit(X_train,y_train)\n",
    "test_pred = model.predict(X_test)\n",
    "print(\"Accuracy: \", model.accuracy(test_pred,y_test))"
   ]
  },
  {
   "cell_type": "markdown",
   "metadata": {},
   "source": [
    "Increasing the number of neurons in the hidden layer increases the complexity of the neural network. A result of this is that the neural network could overfit. This is shown above as the check 2 has a lower accuracy compared to check 1. Check 2 being a more complex neurla network, it fails to generalize to unseen data more than check 1. The model in check 1 further takes longer to converge."
   ]
  }
 ],
 "metadata": {
  "interpreter": {
   "hash": "abfa3a40ca4ae14957eab2c7b2340affb65e642fccfdc8bca44a4575b0473079"
  },
  "kernelspec": {
   "display_name": "Python 3.9.12 ('tf_env')",
   "language": "python",
   "name": "python3"
  },
  "language_info": {
   "codemirror_mode": {
    "name": "ipython",
    "version": 3
   },
   "file_extension": ".py",
   "mimetype": "text/x-python",
   "name": "python",
   "nbconvert_exporter": "python",
   "pygments_lexer": "ipython3",
   "version": "3.9.12"
  },
  "orig_nbformat": 4
 },
 "nbformat": 4,
 "nbformat_minor": 2
}
